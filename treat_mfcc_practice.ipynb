{
 "cells": [
  {
   "cell_type": "code",
   "execution_count": 10,
   "metadata": {
    "collapsed": true
   },
   "outputs": [],
   "source": [
    "import numpy as np\n",
    "import os"
   ]
  },
  {
   "cell_type": "code",
   "execution_count": 17,
   "metadata": {},
   "outputs": [],
   "source": [
    "mfcc = np.genfromtxt(fname='homework\\\\tst\\\\f\\\\ak\\\\1237743.txt', skip_header=1)"
   ]
  },
  {
   "cell_type": "code",
   "execution_count": 18,
   "metadata": {},
   "outputs": [
    {
     "data": {
      "text/plain": [
       "(289, 39)"
      ]
     },
     "execution_count": 18,
     "metadata": {},
     "output_type": "execute_result"
    }
   ],
   "source": [
    "mfcc.shape"
   ]
  },
  {
   "cell_type": "markdown",
   "metadata": {},
   "source": [
    "특정 폴더의 모든 파일 가져오기"
   ]
  },
  {
   "cell_type": "code",
   "execution_count": 20,
   "metadata": {},
   "outputs": [],
   "source": [
    "def allfiles(path):\n",
    "    res = []\n",
    "    \n",
    "    for root, dirs, files in os.walk(path):\n",
    "        for file in files :\n",
    "            filepath = os.path.join(root, file)\n",
    "            res.append(filepath)\n",
    "    return res\n",
    "  \n",
    "m_files = allfiles('homework\\\\tst\\\\m\\\\')    \n",
    "f_files = allfiles('homework\\\\tst\\\\f\\\\')"
   ]
  },
  {
   "cell_type": "markdown",
   "metadata": {},
   "source": [
    "리스트에 각 mfcc 파일 불러서 순서대로 저장하기"
   ]
  },
  {
   "cell_type": "code",
   "execution_count": 30,
   "metadata": {},
   "outputs": [],
   "source": [
    "m_mfcc = []\n",
    "f_mfcc = []\n",
    "for path in m_files :\n",
    "    m_mfcc.append(np.genfromtxt(fname=path, skip_header=1))\n",
    "\n",
    "for path in f_files :\n",
    "    f_mfcc.append(np.genfromtxt(fname=path, skip_header=1))"
   ]
  },
  {
   "cell_type": "code",
   "execution_count": 31,
   "metadata": {},
   "outputs": [
    {
     "data": {
      "text/plain": [
       "array([[-13.2081   ,  -0.8472531,  -4.656468 , ...,   7.388117 ,\n",
       "         16.75651  ,  -0.7255955],\n",
       "       [-10.848    ,   3.944643 ,  -4.349709 , ...,  -3.718122 ,\n",
       "         -7.23261  ,   0.2753412],\n",
       "       [-13.6701   ,   1.881486 ,  -4.51815  , ...,   0.9865028,\n",
       "          1.688872 ,  -0.1092381],\n",
       "       ..., \n",
       "       [-10.10756  ,   0.8992192,  -2.154598 , ...,  -0.7675154,\n",
       "         -1.633492 ,   0.1226618],\n",
       "       [-12.9209   ,   2.059637 ,   1.156134 , ...,  -5.401531 ,\n",
       "          1.42477  ,  -1.291773 ],\n",
       "       [-11.55271  ,   3.095965 ,   1.503703 , ...,   5.26959  ,\n",
       "         -6.873075 ,   2.868496 ]])"
      ]
     },
     "execution_count": 31,
     "metadata": {},
     "output_type": "execute_result"
    }
   ],
   "source": [
    "m_mfcc[0]"
   ]
  },
  {
   "cell_type": "code",
   "execution_count": 32,
   "metadata": {},
   "outputs": [
    {
     "data": {
      "text/plain": [
       "array([[-16.70349   ,   3.232511  ,   0.2039915 , ..., -11.89337   ,\n",
       "         -4.859255  ,   3.254904  ],\n",
       "       [-16.8915    ,   2.135093  ,   0.7019981 , ...,   1.024359  ,\n",
       "         -1.323382  ,  -3.181808  ],\n",
       "       [-20.30904   ,  -5.027702  ,   9.844506  , ...,  -2.060814  ,\n",
       "         -1.678188  ,  -0.466169  ],\n",
       "       ..., \n",
       "       [-17.04254   ,   0.5214264 ,  -0.2450211 , ...,   0.4812128 ,\n",
       "         -0.2803246 ,  -0.03822479],\n",
       "       [-16.89478   ,   0.3230412 ,  -0.6688617 , ...,  -2.372976  ,\n",
       "         -4.114329  ,   0.4435247 ],\n",
       "       [-17.19917   ,   0.7122878 ,  -3.893593  , ...,   4.745574  ,\n",
       "          2.356256  ,  -0.5811272 ]])"
      ]
     },
     "execution_count": 32,
     "metadata": {},
     "output_type": "execute_result"
    }
   ],
   "source": [
    "f_mfcc[0]"
   ]
  }
 ],
 "metadata": {
  "kernelspec": {
   "display_name": "py35_64",
   "language": "python",
   "name": "py35_64"
  },
  "language_info": {
   "codemirror_mode": {
    "name": "ipython",
    "version": 3
   },
   "file_extension": ".py",
   "mimetype": "text/x-python",
   "name": "python",
   "nbconvert_exporter": "python",
   "pygments_lexer": "ipython3",
   "version": "3.5.4"
  }
 },
 "nbformat": 4,
 "nbformat_minor": 2
}
